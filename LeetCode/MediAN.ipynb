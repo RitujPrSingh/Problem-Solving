{
 "cells": [
  {
   "cell_type": "code",
   "execution_count": 49,
   "metadata": {},
   "outputs": [
    {
     "name": "stdout",
     "output_type": "stream",
     "text": [
      "2\n",
      "\n",
      "2.0\n"
     ]
    }
   ],
   "source": [
    "m=list(map(float,input().split()))\n",
    "n=list(map(float,input().split()))\n",
    "c=[]\n",
    "for i in range(len(m)):\n",
    "    c.append(m[i])\n",
    "\n",
    "for j in range(len(n)):\n",
    "    c.append(n[j])\n",
    "    \n",
    "c.sort()\n",
    "\n",
    "if len(c)%2!=0:\n",
    "    print(c[len(c)//2])\n",
    "else:\n",
    "    a= (c[len(c)//2] + c[(len(c)//2)-1])/2\n",
    "    print(a)"
   ]
  },
  {
   "cell_type": "code",
   "execution_count": null,
   "metadata": {},
   "outputs": [],
   "source": []
  }
 ],
 "metadata": {
  "kernelspec": {
   "display_name": "Python 3",
   "language": "python",
   "name": "python3"
  },
  "language_info": {
   "codemirror_mode": {
    "name": "ipython",
    "version": 3
   },
   "file_extension": ".py",
   "mimetype": "text/x-python",
   "name": "python",
   "nbconvert_exporter": "python",
   "pygments_lexer": "ipython3",
   "version": "3.8.5"
  }
 },
 "nbformat": 4,
 "nbformat_minor": 4
}
