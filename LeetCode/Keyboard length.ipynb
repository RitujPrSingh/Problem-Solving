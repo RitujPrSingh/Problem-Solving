{
 "cells": [
  {
   "cell_type": "code",
   "execution_count": 42,
   "metadata": {},
   "outputs": [
    {
     "name": "stdout",
     "output_type": "stream",
     "text": [
      "asdf qwer xcv\n",
      "['asdf', 'qwer', 'xcv']\n"
     ]
    }
   ],
   "source": [
    "words = list(map(str,input().split()))\n",
    "first = \"qwertyuiop\"\n",
    "second=\"asdfghjkl\"\n",
    "third = \"zxcvbnm\"\n",
    "\n",
    "f=[]\n",
    "for i in words:\n",
    "    c=0\n",
    "    d=0\n",
    "    e=0\n",
    "    for j in i:\n",
    "        if (j in first) or (j in first.upper()):\n",
    "            c=c+1\n",
    "        elif j in second or j in second.upper():\n",
    "            d=d+1\n",
    "        elif j in third or j in third.upper() :\n",
    "            e=e+1\n",
    "    if c==len(i):\n",
    "        f.append(i)\n",
    "    if d == len(i):\n",
    "        f.append(i)\n",
    "    if e == len(i):\n",
    "        f.append(i)\n",
    "        \n",
    "print(f)"
   ]
  },
  {
   "cell_type": "code",
   "execution_count": null,
   "metadata": {},
   "outputs": [],
   "source": []
  }
 ],
 "metadata": {
  "kernelspec": {
   "display_name": "Python 3",
   "language": "python",
   "name": "python3"
  },
  "language_info": {
   "codemirror_mode": {
    "name": "ipython",
    "version": 3
   },
   "file_extension": ".py",
   "mimetype": "text/x-python",
   "name": "python",
   "nbconvert_exporter": "python",
   "pygments_lexer": "ipython3",
   "version": "3.8.5"
  }
 },
 "nbformat": 4,
 "nbformat_minor": 4
}
