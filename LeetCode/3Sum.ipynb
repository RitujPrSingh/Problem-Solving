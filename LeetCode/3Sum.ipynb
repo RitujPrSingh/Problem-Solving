{
 "cells": [
  {
   "cell_type": "code",
   "execution_count": 38,
   "metadata": {},
   "outputs": [
    {
     "name": "stdout",
     "output_type": "stream",
     "text": [
      "[2, 5, 4, 7]\n",
      "[3, 0, 1, 2]\n",
      "5\n"
     ]
    }
   ],
   "source": [
    "nums = [-1,2,1,4] \n",
    "target = 5\n",
    "count=0\n",
    "c=[]\n",
    "d=[]\n",
    "for i in range(len(nums)-2):\n",
    "    for j in range(i+1,len(nums)):\n",
    "        for k in range(j+1,len(nums)): \n",
    "            a=nums[i]+nums[j]+nums[k]\n",
    "            c.append(a)\n",
    "            a=abs(a-target)\n",
    "            d.append(a)\n",
    "print(c)\n",
    "print(d)\n",
    "for m in range(len(d)):\n",
    "    if d[m] == min(d):\n",
    "        print(c[m])\n",
    "        break\n",
    "        \n"
   ]
  },
  {
   "cell_type": "code",
   "execution_count": null,
   "metadata": {},
   "outputs": [],
   "source": []
  }
 ],
 "metadata": {
  "kernelspec": {
   "display_name": "Python 3",
   "language": "python",
   "name": "python3"
  },
  "language_info": {
   "codemirror_mode": {
    "name": "ipython",
    "version": 3
   },
   "file_extension": ".py",
   "mimetype": "text/x-python",
   "name": "python",
   "nbconvert_exporter": "python",
   "pygments_lexer": "ipython3",
   "version": "3.8.5"
  }
 },
 "nbformat": 4,
 "nbformat_minor": 4
}
