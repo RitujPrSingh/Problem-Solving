{
 "cells": [
  {
   "cell_type": "code",
   "execution_count": 23,
   "metadata": {},
   "outputs": [
    {
     "name": "stdout",
     "output_type": "stream",
     "text": [
      "2\n",
      "['()()', '(())']\n"
     ]
    }
   ],
   "source": [
    "li=[]\n",
    "def genParanthesis(openB,closeB,n,s=[]):\n",
    "    if closeB == n:\n",
    "        li.append(''.join(s))\n",
    "        return\n",
    "    \n",
    "    else:\n",
    "        if(openB>closeB):\n",
    "            s.append(')')\n",
    "            genParanthesis(openB,closeB+1,n,s)\n",
    "            s.pop()\n",
    "            \n",
    "        if(openB<n):\n",
    "            s.append('(')\n",
    "            genParanthesis(openB+1,closeB,n,s)\n",
    "            s.pop()\n",
    "                \n",
    "\n",
    "n=int(input())\n",
    "genParanthesis(0,0,n)\n",
    "print(li)\n"
   ]
  },
  {
   "cell_type": "code",
   "execution_count": 22,
   "metadata": {},
   "outputs": [
    {
     "name": "stdout",
     "output_type": "stream",
     "text": [
      "2\n",
      "['()()', '(())']\n"
     ]
    },
    {
     "ename": "SyntaxError",
     "evalue": "'return' outside function (<ipython-input-22-5a84e51b393a>, line 22)",
     "output_type": "error",
     "traceback": [
      "\u001b[1;36m  File \u001b[1;32m\"<ipython-input-22-5a84e51b393a>\"\u001b[1;36m, line \u001b[1;32m22\u001b[0m\n\u001b[1;33m    return\u001b[0m\n\u001b[1;37m    ^\u001b[0m\n\u001b[1;31mSyntaxError\u001b[0m\u001b[1;31m:\u001b[0m 'return' outside function\n"
     ]
    }
   ],
   "source": [
    "List=[]\n",
    "def generateParenthesis(openB,closeB,n,s=[]):\n",
    "    if closeB == n:\n",
    "            List.append(''.join(s))\n",
    "            return\n",
    "\n",
    "        else:\n",
    "            if(openB>closeB):\n",
    "                s.append(')')\n",
    "                generateParenthesis(openB,closeB+1,n,s)\n",
    "                s.pop()\n",
    "\n",
    "            if(openB<n):\n",
    "                s.append('(')\n",
    "                generateParenthesis(openB+1,closeB,n,s)\n",
    "                s.pop()\n",
    "                \n",
    "                \n",
    "    n=int(input())\n",
    "    generateParenthesis(0,0,n)\n",
    "    print(List)\n"
   ]
  },
  {
   "cell_type": "code",
   "execution_count": null,
   "metadata": {},
   "outputs": [],
   "source": []
  }
 ],
 "metadata": {
  "kernelspec": {
   "display_name": "Python 3",
   "language": "python",
   "name": "python3"
  },
  "language_info": {
   "codemirror_mode": {
    "name": "ipython",
    "version": 3
   },
   "file_extension": ".py",
   "mimetype": "text/x-python",
   "name": "python",
   "nbconvert_exporter": "python",
   "pygments_lexer": "ipython3",
   "version": "3.8.5"
  }
 },
 "nbformat": 4,
 "nbformat_minor": 4
}
