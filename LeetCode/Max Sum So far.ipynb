{
 "cells": [
  {
   "cell_type": "code",
   "execution_count": null,
   "metadata": {},
   "outputs": [],
   "source": [
    "max_so_far=-9999999999\n",
    "        sum_so_far=0\n",
    "        start,end=0,0\n",
    "        for i in range(0,len(nums)):\n",
    "            #do sum\n",
    "            sum_so_far+=nums[i]\n",
    "            \n",
    "            #find max_so_far\n",
    "            if sum_so_far > max_so_far:\n",
    "                max_so_far = sum_so_far\n",
    "             \n",
    "            #check if sum is greater than 0 else make it 0\n",
    "            if sum_so_far<0:\n",
    "                sum_so_far=0\n",
    "        return max_so_farc"
   ]
  }
 ],
 "metadata": {
  "kernelspec": {
   "display_name": "Python 3",
   "language": "python",
   "name": "python3"
  },
  "language_info": {
   "codemirror_mode": {
    "name": "ipython",
    "version": 3
   },
   "file_extension": ".py",
   "mimetype": "text/x-python",
   "name": "python",
   "nbconvert_exporter": "python",
   "pygments_lexer": "ipython3",
   "version": "3.8.5"
  }
 },
 "nbformat": 4,
 "nbformat_minor": 4
}
