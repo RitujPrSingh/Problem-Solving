{
 "cells": [
  {
   "cell_type": "code",
   "execution_count": null,
   "metadata": {},
   "outputs": [],
   "source": [
    "class Solution:\n",
    "    def threeSumClosest(self, nums: List[int], target: int) -> int:\n",
    "        ans = []\n",
    "        for i in range(len(nums)-2):\n",
    "            a = nums[i]\n",
    "            start = i + 1\n",
    "            end = len(nums) - 1\n",
    "            while start < end:\n",
    "                b = nums[start]\n",
    "                c = nums[end]\n",
    "                if a + b + c  >= target:\n",
    "                    if [a, b, c] not in ans:\n",
    "                        ans.append([a, b, c])\n",
    "                    start += 1\n",
    "                    end -= 1\n",
    "                elif a + b + c > :\n",
    "                    end -= 1\n",
    "                else:\n",
    "                    start += 1\n",
    "        return ans"
   ]
  }
 ],
 "metadata": {
  "kernelspec": {
   "display_name": "Python 3",
   "language": "python",
   "name": "python3"
  },
  "language_info": {
   "codemirror_mode": {
    "name": "ipython",
    "version": 3
   },
   "file_extension": ".py",
   "mimetype": "text/x-python",
   "name": "python",
   "nbconvert_exporter": "python",
   "pygments_lexer": "ipython3",
   "version": "3.8.5"
  }
 },
 "nbformat": 4,
 "nbformat_minor": 4
}
