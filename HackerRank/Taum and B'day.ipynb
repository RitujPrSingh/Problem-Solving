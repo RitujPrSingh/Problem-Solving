{
 "cells": [
  {
   "cell_type": "code",
   "execution_count": 11,
   "metadata": {},
   "outputs": [
    {
     "name": "stdout",
     "output_type": "stream",
     "text": [
      "2\n",
      "3 5 \n",
      "3 4 1\n",
      "29\n",
      "10 10\n",
      "1 1 1\n",
      "20\n"
     ]
    }
   ],
   "source": [
    "t = int(input().strip())\n",
    "for t_itr in range(t):\n",
    "    first_multiple_input = input().rstrip().split()\n",
    "    b = int(first_multiple_input[0])\n",
    "    w = int(first_multiple_input[1])\n",
    "    second_multiple_input = input().rstrip().split()\n",
    "    bc = int(second_multiple_input[0])\n",
    "    wc = int(second_multiple_input[1])\n",
    "    z = int(second_multiple_input[2])\n",
    "\n",
    "\n",
    "    a= b*bc+w*wc\n",
    "    x= b*(wc+z)+w*wc\n",
    "    y= b*bc+w*(bc+z)\n",
    "\n",
    "    list=[]\n",
    "    list.append(a)\n",
    "    list.append(x)\n",
    "    list.append(y)\n",
    "\n",
    "    print(min(list))"
   ]
  },
  {
   "cell_type": "code",
   "execution_count": null,
   "metadata": {},
   "outputs": [],
   "source": []
  }
 ],
 "metadata": {
  "kernelspec": {
   "display_name": "Python 3",
   "language": "python",
   "name": "python3"
  },
  "language_info": {
   "codemirror_mode": {
    "name": "ipython",
    "version": 3
   },
   "file_extension": ".py",
   "mimetype": "text/x-python",
   "name": "python",
   "nbconvert_exporter": "python",
   "pygments_lexer": "ipython3",
   "version": "3.8.5"
  }
 },
 "nbformat": 4,
 "nbformat_minor": 4
}
