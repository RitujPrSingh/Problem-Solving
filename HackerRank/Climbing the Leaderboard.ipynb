{
 "cells": [
  {
   "cell_type": "code",
   "execution_count": null,
   "metadata": {},
   "outputs": [],
   "source": [
    "a=[100,100,50,40,40,20,10]\n",
    "b=[5,25,50,120]\n",
    "c=[0]\n",
    "d=[0]\n",
    "a.sort(reverse=True)\n",
    "for i in range(len(a)):\n",
    "    c.append(a[i])\n",
    "for j in range(len(b)):\n",
    "    for k in range(1,len(c)):\n",
    "        \n",
    "        "
   ]
  },
  {
   "cell_type": "code",
   "execution_count": null,
   "metadata": {},
   "outputs": [],
   "source": [
    "a=[100,100,50,40,40,20,10]\n",
    "a.sort(reverse=True)\n",
    "print(a)"
   ]
  },
  {
   "cell_type": "code",
   "execution_count": 16,
   "metadata": {},
   "outputs": [
    {
     "name": "stdout",
     "output_type": "stream",
     "text": [
      "4\n",
      "100 90 90 80\n",
      "3\n",
      "70 80 105\n",
      "4\n",
      "3\n",
      "1\n"
     ]
    }
   ],
   "source": [
    "ranked_count = int(input().strip())\n",
    "a = list(map(int, input().rstrip().split()))\n",
    "player_count = int(input().strip())\n",
    "b = list(map(int, input().rstrip().split()))\n",
    "res = [0]\n",
    "for i in a:\n",
    "    if i not in res:\n",
    "        res.append(i)\n",
    "\n",
    "d=[0]\n",
    "while(d!=[]):\n",
    "    for j in range(len(b)):\n",
    "        for k in range(1,len(res)):\n",
    "            if (b[j] >= res[k]):\n",
    "                d.append(b[j])\n",
    "                d.append(res[k])\n",
    "            \n",
    "            elif ((k == len(res)-1) and (b[j] < res[k])):\n",
    "                d.append(res[k])\n",
    "                d.append(b[j]) \n",
    "            else:\n",
    "                d.append(res[k])\n",
    "           \n",
    "        print(d.index(b[j]))\n",
    "        d.clear()\n",
    "        if (j != len(b)-1):\n",
    "            d.append(0)\n",
    "\n",
    "        \n",
    "   "
   ]
  },
  {
   "cell_type": "code",
   "execution_count": null,
   "metadata": {},
   "outputs": [],
   "source": [
    "ranked_count = int(input().strip())\n",
    "a = list(map(int, input().rstrip().split()))\n",
    "player_count = int(input().strip())\n",
    "b = list(map(int, input().rstrip().split()))\n",
    "res = [0]\n",
    "for i in a:\n",
    "    if i not in res:\n",
    "        res.append(i)\n"
   ]
  }
 ],
 "metadata": {
  "kernelspec": {
   "display_name": "Python 3",
   "language": "python",
   "name": "python3"
  },
  "language_info": {
   "codemirror_mode": {
    "name": "ipython",
    "version": 3
   },
   "file_extension": ".py",
   "mimetype": "text/x-python",
   "name": "python",
   "nbconvert_exporter": "python",
   "pygments_lexer": "ipython3",
   "version": "3.8.5"
  }
 },
 "nbformat": 4,
 "nbformat_minor": 4
}
