{
 "cells": [
  {
   "cell_type": "code",
   "execution_count": 1,
   "metadata": {},
   "outputs": [
    {
     "name": "stdout",
     "output_type": "stream",
     "text": [
      "foi4\n",
      "3\n",
      "not pangram\n"
     ]
    }
   ],
   "source": [
    "a = input()\n",
    "b = list(a.replace(\" \",\"\"))\n",
    "count=0\n",
    "alpha = \"\".join(set(b))\n",
    "\n",
    "for i in range(len(alpha)):\n",
    "    if (ord(alpha[i])>=65 or ord(alpha[i])>=97) and (ord(alpha[i])<=90 or ord(alpha[i])<=122):\n",
    "        count = count+1\n",
    "\n",
    "print(count)\n",
    "if count == 26:\n",
    "    print('pangram')\n",
    "else:\n",
    "    print('not pangram')"
   ]
  },
  {
   "cell_type": "code",
   "execution_count": null,
   "metadata": {},
   "outputs": [],
   "source": [
    "a = input()\n",
    "b = list(a.replace(\" \",\"\"))\n",
    "count=0\n",
    "alpha = \"\".join(set(b))"
   ]
  }
 ],
 "metadata": {
  "kernelspec": {
   "display_name": "Python 3",
   "language": "python",
   "name": "python3"
  },
  "language_info": {
   "codemirror_mode": {
    "name": "ipython",
    "version": 3
   },
   "file_extension": ".py",
   "mimetype": "text/x-python",
   "name": "python",
   "nbconvert_exporter": "python",
   "pygments_lexer": "ipython3",
   "version": "3.8.5"
  }
 },
 "nbformat": 4,
 "nbformat_minor": 4
}
