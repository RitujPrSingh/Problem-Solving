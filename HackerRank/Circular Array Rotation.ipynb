{
 "cells": [
  {
   "cell_type": "code",
   "execution_count": 1,
   "metadata": {},
   "outputs": [
    {
     "name": "stdout",
     "output_type": "stream",
     "text": [
      "3 2 2\n",
      "3 4 5\n",
      "1\n",
      "2\n",
      "5\n",
      "3\n"
     ]
    }
   ],
   "source": [
    "first_multiple_input = input().rstrip().split()\n",
    "n = int(first_multiple_input[0])\n",
    "k = int(first_multiple_input[1])\n",
    "q = int(first_multiple_input[2])\n",
    "a = list(map(int, input().rstrip().split()))\n",
    "queries = []\n",
    "for _ in range(q):\n",
    "    queries_item = int(input().strip())\n",
    "    queries.append(queries_item)\n",
    "\n",
    "\n",
    "while(k!=0):\n",
    "    a.insert(0,a[len(a)-1])\n",
    "    a.pop()   \n",
    "    k=k-1\n",
    "\n",
    "for i in range (len(queries)):\n",
    "    print(a[queries[i]])"
   ]
  },
  {
   "cell_type": "markdown",
   "metadata": {},
   "source": [
    "### "
   ]
  }
 ],
 "metadata": {
  "kernelspec": {
   "display_name": "Python 3",
   "language": "python",
   "name": "python3"
  },
  "language_info": {
   "codemirror_mode": {
    "name": "ipython",
    "version": 3
   },
   "file_extension": ".py",
   "mimetype": "text/x-python",
   "name": "python",
   "nbconvert_exporter": "python",
   "pygments_lexer": "ipython3",
   "version": "3.8.5"
  }
 },
 "nbformat": 4,
 "nbformat_minor": 4
}
