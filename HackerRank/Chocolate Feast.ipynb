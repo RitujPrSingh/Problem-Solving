{
 "cells": [
  {
   "cell_type": "markdown",
   "metadata": {},
   "source": [
    "#### All test cases are correct"
   ]
  },
  {
   "cell_type": "code",
   "execution_count": 38,
   "metadata": {},
   "outputs": [
    {
     "name": "stdout",
     "output_type": "stream",
     "text": [
      "3\n",
      "10 2 5\n",
      "6\n",
      "12 4 4\n",
      "3\n",
      "6 2 2\n",
      "5\n"
     ]
    }
   ],
   "source": [
    "t = int(input().strip())\n",
    "for t_itr in range(t):\n",
    "    first_multiple_input = input().rstrip().split()\n",
    "    n = int(first_multiple_input[0])\n",
    "    c = int(first_multiple_input[1])\n",
    "    m = int(first_multiple_input[2])\n",
    "    wrap = n//c\n",
    "    bars = n//c + wrap//m\n",
    "\n",
    "    while(wrap>m):\n",
    "        wrap = wrap%m + wrap//m;\n",
    "        bars += wrap//m; \n",
    "\n",
    "    print(bars)\n",
    "   \n"
   ]
  },
  {
   "cell_type": "markdown",
   "metadata": {},
   "source": [
    "#### Three test cases not working\n"
   ]
  },
  {
   "cell_type": "code",
   "execution_count": 2,
   "metadata": {},
   "outputs": [
    {
     "name": "stdout",
     "output_type": "stream",
     "text": [
      "1\n",
      "15 3 2\n",
      "9\n"
     ]
    }
   ],
   "source": [
    "t = int(input().strip())\n",
    "for t_itr in range(t):\n",
    "    first_multiple_input = input().rstrip().split()\n",
    "    n = int(first_multiple_input[0])\n",
    "    c = int(first_multiple_input[1])\n",
    "    m = int(first_multiple_input[2])\n",
    "    a=[]\n",
    "    z= n//c\n",
    "\n",
    "    while(z!=0):\n",
    "        a.append(z)\n",
    "        b = z%m\n",
    "        z=z//m\n",
    "        d =z+b\n",
    "        if d >= m:\n",
    "            a.append(d//m)\n",
    "\n",
    "    print(int(sum(a)))"
   ]
  },
  {
   "cell_type": "code",
   "execution_count": null,
   "metadata": {},
   "outputs": [],
   "source": []
  }
 ],
 "metadata": {
  "kernelspec": {
   "display_name": "Python 3",
   "language": "python",
   "name": "python3"
  },
  "language_info": {
   "codemirror_mode": {
    "name": "ipython",
    "version": 3
   },
   "file_extension": ".py",
   "mimetype": "text/x-python",
   "name": "python",
   "nbconvert_exporter": "python",
   "pygments_lexer": "ipython3",
   "version": "3.8.5"
  }
 },
 "nbformat": 4,
 "nbformat_minor": 4
}
