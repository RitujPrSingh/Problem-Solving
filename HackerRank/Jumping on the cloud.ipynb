{
 "cells": [
  {
   "cell_type": "code",
   "execution_count": 4,
   "metadata": {},
   "outputs": [
    {
     "name": "stdout",
     "output_type": "stream",
     "text": [
      "4 2\n",
      "0 0 1 0\n",
      "96\n"
     ]
    }
   ],
   "source": [
    "nk = input().split()\n",
    "n = int(nk[0])\n",
    "k = int(nk[1])\n",
    "c=list(map(int,input().split()))\n",
    "u=[]\n",
    "e=100\n",
    "while(len(u)!=4*n):\n",
    "    for j in range(n):\n",
    "        u.append(c[j])\n",
    "a=0\n",
    "while(a%n!=0 or a==0):\n",
    "    if u[a] == 0:\n",
    "        e = e-1\n",
    "    else:\n",
    "        e= e-1-2\n",
    "    a=a+k\n",
    "\n",
    "print(e)\n"
   ]
  },
  {
   "cell_type": "code",
   "execution_count": null,
   "metadata": {},
   "outputs": [],
   "source": []
  }
 ],
 "metadata": {
  "kernelspec": {
   "display_name": "Python 3",
   "language": "python",
   "name": "python3"
  },
  "language_info": {
   "codemirror_mode": {
    "name": "ipython",
    "version": 3
   },
   "file_extension": ".py",
   "mimetype": "text/x-python",
   "name": "python",
   "nbconvert_exporter": "python",
   "pygments_lexer": "ipython3",
   "version": "3.8.5"
  }
 },
 "nbformat": 4,
 "nbformat_minor": 4
}
