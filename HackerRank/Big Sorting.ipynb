{
 "cells": [
  {
   "cell_type": "code",
   "execution_count": 18,
   "metadata": {},
   "outputs": [
    {
     "name": "stdout",
     "output_type": "stream",
     "text": [
      "4\n",
      "23\n",
      "1\n",
      "2\n",
      "3\n",
      "['1', '2', '23', '3']\n"
     ]
    }
   ],
   "source": [
    "n = int(input().strip())\n",
    "l = []\n",
    "for _ in range(n):\n",
    "    unsorted_item = input()\n",
    "    l.append(unsorted_item)\n",
    "        \n",
    "\n",
    "for i in range(len(l)):\n",
    "    for j in range(i + 1, len(l)):\n",
    "        if l[i] > l[j]:\n",
    "            l[i], l[j] = l[j], l[i]\n",
    "\n",
    "print(l)"
   ]
  },
  {
   "cell_type": "code",
   "execution_count": 5,
   "metadata": {},
   "outputs": [
    {
     "name": "stdout",
     "output_type": "stream",
     "text": [
      "[1, 2, 2, 3]\n"
     ]
    }
   ],
   "source": [
    "a=[1,2,3,2]\n",
    "a.sort()\n",
    "print(a)"
   ]
  },
  {
   "cell_type": "code",
   "execution_count": 11,
   "metadata": {},
   "outputs": [
    {
     "name": "stdout",
     "output_type": "stream",
     "text": [
      "2345678976543245678976543245\n",
      "Yes\n"
     ]
    }
   ],
   "source": [
    "x= int(input())\n",
    "if(x>23456789654324567):\n",
    "    print('Yes')"
   ]
  },
  {
   "cell_type": "code",
   "execution_count": 52,
   "metadata": {},
   "outputs": [
    {
     "name": "stdout",
     "output_type": "stream",
     "text": [
      "4\n",
      "1234567\n",
      "12\n",
      "12345\n",
      "12345678765432345\n",
      "12\n",
      "12345\n",
      "1234567\n",
      "12345678765432345\n"
     ]
    }
   ],
   "source": [
    "def SortingBigIntegers(arr, n):\n",
    "    arr.sort(key = lambda x: (len(x), x))\n",
    "    \n",
    "    \n",
    "l = int(input().strip())\n",
    "arr = []\n",
    "for _ in range(l):\n",
    "    unsorted_item = input()\n",
    "    arr.append(unsorted_item)\n",
    "n = len(arr)\n",
    "\n",
    "SortingBigIntegers(arr, n)\n",
    "\n",
    "for i in range(l):\n",
    "    print(arr[i])\n"
   ]
  },
  {
   "cell_type": "code",
   "execution_count": null,
   "metadata": {},
   "outputs": [],
   "source": []
  }
 ],
 "metadata": {
  "kernelspec": {
   "display_name": "Python 3",
   "language": "python",
   "name": "python3"
  },
  "language_info": {
   "codemirror_mode": {
    "name": "ipython",
    "version": 3
   },
   "file_extension": ".py",
   "mimetype": "text/x-python",
   "name": "python",
   "nbconvert_exporter": "python",
   "pygments_lexer": "ipython3",
   "version": "3.8.5"
  }
 },
 "nbformat": 4,
 "nbformat_minor": 4
}
