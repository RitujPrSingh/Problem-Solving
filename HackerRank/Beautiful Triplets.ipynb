{
 "cells": [
  {
   "cell_type": "code",
   "execution_count": 31,
   "metadata": {},
   "outputs": [
    {
     "name": "stdout",
     "output_type": "stream",
     "text": [
      "2 2\n",
      "2 4\n",
      "0\n"
     ]
    }
   ],
   "source": [
    "first_multiple_input = input().rstrip().split()\n",
    "n = int(first_multiple_input[0])\n",
    "d = int(first_multiple_input[1])\n",
    "arr = list(map(int, input().rstrip().split()))\n",
    "count=0\n",
    "u=[]\n",
    "for i in range(len(arr)):\n",
    "    for j in range(i+1,len(arr)):\n",
    "        if arr[j]-arr[i] ==d:\n",
    "            for k in range(j+1,len(arr)):\n",
    "                if arr[k] - arr[j] ==d:\n",
    "                    u.append(0)\n",
    "            break\n",
    "        \n",
    "print(len(u))"
   ]
  },
  {
   "cell_type": "code",
   "execution_count": null,
   "metadata": {},
   "outputs": [],
   "source": [
    "first_multiple_input = input().rstrip().split()\n",
    "n = int(first_multiple_input[0])\n",
    "d = int(first_multiple_input[1])\n",
    "arr = list(map(int, input().rstrip().split()))\n",
    "count=0\n",
    "for i in range(len(arr)):\n",
    "    for j in range(i+1,len(arr)):\n",
    "        if arr[j]-arr[i] ==d:\n",
    "            for k in range(j+1,len(arr)):\n",
    "                if arr[k] - arr[j] ==d:\n",
    "                    count+=1\n",
    "            break\n",
    "print(count)"
   ]
  },
  {
   "cell_type": "code",
   "execution_count": null,
   "metadata": {},
   "outputs": [],
   "source": []
  }
 ],
 "metadata": {
  "kernelspec": {
   "display_name": "Python 3",
   "language": "python",
   "name": "python3"
  },
  "language_info": {
   "codemirror_mode": {
    "name": "ipython",
    "version": 3
   },
   "file_extension": ".py",
   "mimetype": "text/x-python",
   "name": "python",
   "nbconvert_exporter": "python",
   "pygments_lexer": "ipython3",
   "version": "3.8.5"
  }
 },
 "nbformat": 4,
 "nbformat_minor": 4
}
