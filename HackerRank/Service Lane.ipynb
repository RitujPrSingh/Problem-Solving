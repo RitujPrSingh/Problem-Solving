{
 "cells": [
  {
   "cell_type": "code",
   "execution_count": 17,
   "metadata": {},
   "outputs": [
    {
     "name": "stdout",
     "output_type": "stream",
     "text": [
      "8 5\n",
      "2 3 1 2 3 2 3 3\n",
      "0 3\n",
      "1\n",
      "4 6\n",
      "2\n",
      "6 7\n",
      "3\n",
      "3 5\n",
      "2\n",
      "0 7\n",
      "1\n"
     ]
    }
   ],
   "source": [
    "first_multiple_input = input().rstrip().split()\n",
    "n = int(first_multiple_input[0])\n",
    "t = int(first_multiple_input[1])\n",
    "width = list(map(int, input().rstrip().split()))\n",
    "cases = []\n",
    "c=[]\n",
    "for _ in range(t):\n",
    "    a=list(map(int,input().rstrip().split()))\n",
    "    cases = a\n",
    "    i = cases[0]\n",
    "    j = cases[1]\n",
    "    if j == len(width) - 1:\n",
    "        for k in range(i,len(width)):\n",
    "            c.append(width[k])\n",
    "        print(min(c))\n",
    "        c.clear()\n",
    "    else:\n",
    "        for k in range(i,j+1):\n",
    "            c.append(width[k])\n",
    "        print(min(c))\n",
    "        c.clear()\n",
    "    \n",
    "    \n",
    "    "
   ]
  },
  {
   "cell_type": "markdown",
   "metadata": {},
   "source": [
    "# "
   ]
  }
 ],
 "metadata": {
  "kernelspec": {
   "display_name": "Python 3",
   "language": "python",
   "name": "python3"
  },
  "language_info": {
   "codemirror_mode": {
    "name": "ipython",
    "version": 3
   },
   "file_extension": ".py",
   "mimetype": "text/x-python",
   "name": "python",
   "nbconvert_exporter": "python",
   "pygments_lexer": "ipython3",
   "version": "3.8.5"
  }
 },
 "nbformat": 4,
 "nbformat_minor": 4
}
