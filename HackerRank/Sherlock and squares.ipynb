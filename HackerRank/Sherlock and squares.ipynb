{
 "cells": [
  {
   "cell_type": "code",
   "execution_count": null,
   "metadata": {},
   "outputs": [],
   "source": [
    "q = int(input().strip())\n",
    "\n",
    "for q_itr in range(q):\n",
    "    first_multiple_input = input().rstrip().split()\n",
    "    a = int(first_multiple_input[0])\n",
    "    b = int(first_multiple_input[1])\n",
    "\n",
    "    count = 0\n",
    "    while(a!=b+1):\n",
    "        c=int(a**0.5)\n",
    "        if(a**0.5 == c):\n",
    "            count+=1\n",
    "        a=a+1\n",
    "\n",
    "    print(count)"
   ]
  },
  {
   "cell_type": "code",
   "execution_count": 6,
   "metadata": {},
   "outputs": [
    {
     "name": "stdout",
     "output_type": "stream",
     "text": [
      "2\n",
      "3 9\n",
      "2\n",
      "17 14\n",
      "-1\n"
     ]
    }
   ],
   "source": [
    "from math import sqrt\n",
    "\n",
    "def squares(a, b):\n",
    "    c = int(sqrt(b))-int(sqrt(a))\n",
    "    if int(sqrt(a))**2==a:\n",
    "        return c+1\n",
    "    else:\n",
    "        return c\n",
    "\n",
    "for _ in range(int(input())):\n",
    "    a,b = map(int,input().split())\n",
    "    print(squares(a, b))"
   ]
  },
  {
   "cell_type": "code",
   "execution_count": null,
   "metadata": {},
   "outputs": [],
   "source": []
  }
 ],
 "metadata": {
  "kernelspec": {
   "display_name": "Python 3",
   "language": "python",
   "name": "python3"
  },
  "language_info": {
   "codemirror_mode": {
    "name": "ipython",
    "version": 3
   },
   "file_extension": ".py",
   "mimetype": "text/x-python",
   "name": "python",
   "nbconvert_exporter": "python",
   "pygments_lexer": "ipython3",
   "version": "3.8.5"
  }
 },
 "nbformat": 4,
 "nbformat_minor": 4
}
