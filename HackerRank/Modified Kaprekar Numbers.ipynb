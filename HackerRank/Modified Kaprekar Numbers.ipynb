{
 "cells": [
  {
   "cell_type": "code",
   "execution_count": 106,
   "metadata": {},
   "outputs": [
    {
     "name": "stdout",
     "output_type": "stream",
     "text": [
      "1\n",
      "1000\n",
      "1 9 45 55 99 297 703 999\n"
     ]
    }
   ],
   "source": [
    "p=int(input())\n",
    "q=int(input())\n",
    "kn=[]\n",
    "for i in range(p,q+1):\n",
    "    square=i**2\n",
    "    d=10**len(str(i))\n",
    "    l=square//d\n",
    "    r=square%d\n",
    "    if l+r==i:\n",
    "        kn.append(i)\n",
    "if kn!=[]:\n",
    "    print(*kn)\n",
    "else:\n",
    "    print(\"INVALID RANGE\")\n",
    "        "
   ]
  },
  {
   "cell_type": "code",
   "execution_count": null,
   "metadata": {},
   "outputs": [],
   "source": [
    "p=int(input())\n",
    "q=int(input())\n",
    "count=0\n",
    "for i in range(p,q+1):\n",
    "    b=i*i\n",
    "    if b < 100:\n",
    "        c=b%10\n",
    "        e=b//10       \n",
    "    elif b>=100 and b<1000:\n",
    "        c=b%100\n",
    "        e=b//100\n",
    "    elif b>=1000 and b<10000:\n",
    "        c=b%100\n",
    "        e=b//100\n",
    "    elif b>=10000 and b<100000:\n",
    "        c=b%1000\n",
    "        e=b//1000\n",
    "    elif b>=100000 and b<1000000:\n",
    "        c=b%1000\n",
    "        e=b//1000  \n",
    "    elif b>=1000000 and b<10000000:\n",
    "        c=b%10000\n",
    "        e=b//10000\n",
    "    elif b>=10000000 and b<100000000:\n",
    "        c=b%10000\n",
    "        e=b//10000\n",
    "    elif b>=100000000 and b<1000000000:\n",
    "        c=b%100000\n",
    "        e=b//100000\n",
    "    elif b>=1000000000 and b<10000000000:\n",
    "        c=b%100000\n",
    "        e=b//100000\n",
    "   \n",
    "    if c+e == i:\n",
    "        count+=1\n",
    "        print(i,end=\" \")\n",
    "\n",
    "if count == 0:\n",
    "    print('INVALID RANGE')"
   ]
  }
 ],
 "metadata": {
  "kernelspec": {
   "display_name": "Python 3",
   "language": "python",
   "name": "python3"
  },
  "language_info": {
   "codemirror_mode": {
    "name": "ipython",
    "version": 3
   },
   "file_extension": ".py",
   "mimetype": "text/x-python",
   "name": "python",
   "nbconvert_exporter": "python",
   "pygments_lexer": "ipython3",
   "version": "3.8.5"
  }
 },
 "nbformat": 4,
 "nbformat_minor": 4
}
