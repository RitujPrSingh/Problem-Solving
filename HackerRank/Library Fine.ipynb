{
 "cells": [
  {
   "cell_type": "code",
   "execution_count": 3,
   "metadata": {},
   "outputs": [
    {
     "name": "stdout",
     "output_type": "stream",
     "text": [
      "1 1 2000\n",
      "1 1 2000\n",
      "0\n"
     ]
    }
   ],
   "source": [
    "first_multiple_input = input().rstrip().split()\n",
    "d1 = int(first_multiple_input[0])\n",
    "m1 = int(first_multiple_input[1])\n",
    "y1 = int(first_multiple_input[2])\n",
    "\n",
    "second_multiple_input = input().rstrip().split()\n",
    "d2 = int(second_multiple_input[0])\n",
    "m2 = int(second_multiple_input[1])\n",
    "y2 = int(second_multiple_input[2])\n",
    "if d1==d2 and m1 == m2 and y1==y2:\n",
    "    print('0')\n",
    "    \n",
    "elif m1 == m2 and y1 == y2 and d1!=d2:\n",
    "    if d1<d2:\n",
    "        print('0')\n",
    "    elif d1>d2:\n",
    "        a=15*(d1-d2)\n",
    "        print(a)\n",
    "elif m1!=m2 and y1==y2:\n",
    "    if m1<m2:\n",
    "        print('0')\n",
    "    elif m1>m2:\n",
    "        b=500*(m1-m2)\n",
    "        print(b)\n",
    "elif y1!=y2:\n",
    "    if y1<y2:\n",
    "        print('0')\n",
    "    elif y1>y2:\n",
    "        b=10000*(y1-y2)\n",
    "        print(b)\n"
   ]
  },
  {
   "cell_type": "code",
   "execution_count": null,
   "metadata": {},
   "outputs": [],
   "source": []
  }
 ],
 "metadata": {
  "kernelspec": {
   "display_name": "Python 3",
   "language": "python",
   "name": "python3"
  },
  "language_info": {
   "codemirror_mode": {
    "name": "ipython",
    "version": 3
   },
   "file_extension": ".py",
   "mimetype": "text/x-python",
   "name": "python",
   "nbconvert_exporter": "python",
   "pygments_lexer": "ipython3",
   "version": "3.8.5"
  }
 },
 "nbformat": 4,
 "nbformat_minor": 4
}
