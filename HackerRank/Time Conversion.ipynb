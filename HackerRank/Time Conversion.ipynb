{
 "cells": [
  {
   "cell_type": "code",
   "execution_count": 28,
   "metadata": {},
   "outputs": [
    {
     "name": "stdout",
     "output_type": "stream",
     "text": [
      "07:05:45PM\n",
      "19:05:45\n"
     ]
    }
   ],
   "source": [
    "\n",
    "def convert24(str1):\n",
    "\n",
    "    if str1[-2:] == \"AM\" and str1[:2] == \"12\":\n",
    "        return \"00\" + str1[2:-2]\n",
    "\n",
    "    elif str1[-2:] == \"AM\":\n",
    "        return str1[:-2]\n",
    "\n",
    "    elif str1[-2:] == \"PM\" and str1[:2] == \"12\":\n",
    "        return str1[:-2]\n",
    "\n",
    "    else:\n",
    "        return str(int(str1[:2]) + 12) + str1[2:8]\n",
    "\n",
    "str1 = input()\n",
    "print(convert24(str1))\n"
   ]
  },
  {
   "cell_type": "code",
   "execution_count": null,
   "metadata": {},
   "outputs": [],
   "source": []
  }
 ],
 "metadata": {
  "kernelspec": {
   "display_name": "Python 3",
   "language": "python",
   "name": "python3"
  },
  "language_info": {
   "codemirror_mode": {
    "name": "ipython",
    "version": 3
   },
   "file_extension": ".py",
   "mimetype": "text/x-python",
   "name": "python",
   "nbconvert_exporter": "python",
   "pygments_lexer": "ipython3",
   "version": "3.8.5"
  }
 },
 "nbformat": 4,
 "nbformat_minor": 4
}
