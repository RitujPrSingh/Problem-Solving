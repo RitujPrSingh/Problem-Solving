{
 "cells": [
  {
   "cell_type": "code",
   "execution_count": null,
   "metadata": {},
   "outputs": [
    {
     "name": "stdout",
     "output_type": "stream",
     "text": [
      "5\n"
     ]
    }
   ],
   "source": [
    "n = int(input().strip())\n",
    "b=[]\n",
    "arr = list(map(int, input().rstrip().split()))\n",
    "max_count=0\n",
    "for i in range(len(arr)):\n",
    "    if(arr.count(arr[i])>max_count):\n",
    "        max_count = arr.count(arr[i])\n",
    "        a=i\n",
    "for i in range(len(arr)):\n",
    "    if (arr.count(arr[i]) == max_count) and (arr[i]==arr[a]):\n",
    "        b.append(arr[i])\n",
    "        \n",
    "print(len(b))    \n",
    "c=len(arr)-len(b)\n",
    "print(c)"
   ]
  },
  {
   "cell_type": "code",
   "execution_count": 42,
   "metadata": {},
   "outputs": [
    {
     "name": "stdout",
     "output_type": "stream",
     "text": [
      "1 2 2 3\n",
      "2\n",
      "2\n"
     ]
    }
   ],
   "source": [
    "arr = list(map(int, input().rstrip().split()))\n",
    "max_count=0\n",
    "for i in range(len(arr)):\n",
    "    if(arr.count(arr[i])>max_count):\n",
    "        max_count = arr.count(arr[i])\n",
    "        a=i\n",
    "print(max_count)\n",
    "print(arr[a])"
   ]
  },
  {
   "cell_type": "code",
   "execution_count": null,
   "metadata": {},
   "outputs": [],
   "source": []
  }
 ],
 "metadata": {
  "kernelspec": {
   "display_name": "Python 3",
   "language": "python",
   "name": "python3"
  },
  "language_info": {
   "codemirror_mode": {
    "name": "ipython",
    "version": 3
   },
   "file_extension": ".py",
   "mimetype": "text/x-python",
   "name": "python",
   "nbconvert_exporter": "python",
   "pygments_lexer": "ipython3",
   "version": "3.8.5"
  }
 },
 "nbformat": 4,
 "nbformat_minor": 4
}
