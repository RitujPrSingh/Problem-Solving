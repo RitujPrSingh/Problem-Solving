{
 "cells": [
  {
   "cell_type": "code",
   "execution_count": 18,
   "metadata": {},
   "outputs": [
    {
     "name": "stdout",
     "output_type": "stream",
     "text": [
      "5 3\n",
      "4 2 6 1 10\n",
      "4\n"
     ]
    }
   ],
   "source": [
    "nk = list(map(int,input().split()))\n",
    "n = nk[0]\n",
    "k = nk[1]\n",
    "arr = list(map(int,input().split()))\n",
    "count = 0\n",
    "page = 1\n",
    "for i in arr:\n",
    "    for j in range(1,i+1):\n",
    "        if page == j:\n",
    "            count = count+1\n",
    "        if ((j%k == 0) or j == i):\n",
    "            page = page+1\n",
    "        \n",
    "print(count)\n",
    "        "
   ]
  }
 ],
 "metadata": {
  "kernelspec": {
   "display_name": "Python 3",
   "language": "python",
   "name": "python3"
  },
  "language_info": {
   "codemirror_mode": {
    "name": "ipython",
    "version": 3
   },
   "file_extension": ".py",
   "mimetype": "text/x-python",
   "name": "python",
   "nbconvert_exporter": "python",
   "pygments_lexer": "ipython3",
   "version": "3.8.5"
  }
 },
 "nbformat": 4,
 "nbformat_minor": 4
}
