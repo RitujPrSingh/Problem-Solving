{
 "cells": [
  {
   "cell_type": "code",
   "execution_count": 20,
   "metadata": {},
   "outputs": [
    {
     "name": "stdout",
     "output_type": "stream",
     "text": [
      "3\n",
      "Ab1\n",
      "3\n"
     ]
    }
   ],
   "source": [
    "numbers = \"0123456789\"\n",
    "lower_case = \"abcdefghijklmnopqrstuvwxyz\"\n",
    "upper_case = \"ABCDEFGHIJKLMNOPQRSTUVWXYZ\"\n",
    "special_characters = \"!@#$%^&*()-+\"\n",
    "\n",
    "\n",
    "num = int(input())\n",
    "s=input()\n",
    "total = 4\n",
    "a=0\n",
    "b=0\n",
    "c=0\n",
    "d=0\n",
    "\n",
    "if num <6:\n",
    "    for i in range(len(s)):\n",
    "        if s[i] in lower_case:\n",
    "            a=1\n",
    "\n",
    "        elif s[i] in upper_case:\n",
    "            b=1\n",
    "\n",
    "        elif s[i] in numbers:\n",
    "            c=1\n",
    "\n",
    "        elif s[i] in special_characters:\n",
    "            d=1\n",
    "    res = total-(a+b+c+d)\n",
    "    if (res + num) >= 6:\n",
    "        print(res)\n",
    "    else:\n",
    "        ans = 6-num\n",
    "        print(ans)\n",
    "        \n",
    "    \n",
    "else:\n",
    "    for i in range(len(s)):\n",
    "        if s[i] in lower_case:\n",
    "            a=1\n",
    "\n",
    "        elif s[i] in upper_case:\n",
    "            b=1\n",
    "\n",
    "        elif s[i] in numbers:\n",
    "            c=1\n",
    "\n",
    "        elif s[i] in special_characters:\n",
    "            d=1\n",
    "\n",
    "    res =total-(a+b+c+d)    \n",
    "    print(res)\n",
    "\n",
    "    "
   ]
  }
 ],
 "metadata": {
  "kernelspec": {
   "display_name": "Python 3",
   "language": "python",
   "name": "python3"
  },
  "language_info": {
   "codemirror_mode": {
    "name": "ipython",
    "version": 3
   },
   "file_extension": ".py",
   "mimetype": "text/x-python",
   "name": "python",
   "nbconvert_exporter": "python",
   "pygments_lexer": "ipython3",
   "version": "3.8.5"
  }
 },
 "nbformat": 4,
 "nbformat_minor": 4
}
