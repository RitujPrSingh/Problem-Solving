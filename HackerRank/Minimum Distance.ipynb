{
 "cells": [
  {
   "cell_type": "code",
   "execution_count": 11,
   "metadata": {},
   "outputs": [
    {
     "name": "stdout",
     "output_type": "stream",
     "text": [
      "6\n",
      "7 1 3 4 1 7 \n",
      "3\n"
     ]
    }
   ],
   "source": [
    "n = int(input().strip())\n",
    "a = list(map(int, input().rstrip().split()))\n",
    "lis=[]\n",
    "for i in range(len(a)):\n",
    "    for j in range(len(a)):\n",
    "        if i != j and a[i] == a[j]:\n",
    "            z=abs(i-j)\n",
    "            lis.append(z)\n",
    "\n",
    "if lis!=[]:          \n",
    "    print(min(lis)) \n",
    "    \n",
    "else:\n",
    "    print('-1')"
   ]
  },
  {
   "cell_type": "code",
   "execution_count": null,
   "metadata": {},
   "outputs": [],
   "source": []
  }
 ],
 "metadata": {
  "kernelspec": {
   "display_name": "Python 3",
   "language": "python",
   "name": "python3"
  },
  "language_info": {
   "codemirror_mode": {
    "name": "ipython",
    "version": 3
   },
   "file_extension": ".py",
   "mimetype": "text/x-python",
   "name": "python",
   "nbconvert_exporter": "python",
   "pygments_lexer": "ipython3",
   "version": "3.8.5"
  }
 },
 "nbformat": 4,
 "nbformat_minor": 4
}
