{
 "cells": [
  {
   "cell_type": "markdown",
   "metadata": {},
   "source": [
    "### Without Removing Time Complexity:\n"
   ]
  },
  {
   "cell_type": "code",
   "execution_count": 33,
   "metadata": {},
   "outputs": [
    {
     "name": "stdout",
     "output_type": "stream",
     "text": [
      "3 5\n",
      "10101\n",
      "11110\n",
      "00010\n",
      "5\n",
      "1\n"
     ]
    }
   ],
   "source": [
    "first_multiple_input = input().rstrip().split()\n",
    "n = int(first_multiple_input[0])\n",
    "m = int(first_multiple_input[1])\n",
    "topic = []\n",
    "for _ in range(n):\n",
    "    topic_item = input()\n",
    "    topic.append(topic_item)\n",
    "u=[]\n",
    "x=[]\n",
    "lis=[]\n",
    "\n",
    "for i in range(len(topic)):\n",
    "    for j in range(i+1,len(topic)):\n",
    "        count=0\n",
    "        u=list(topic[i])\n",
    "        x=list(topic[j])\n",
    "        for k in range(len(u)):\n",
    "            if u[k] == '1' or x[k] == '1':\n",
    "                count+=1\n",
    "        u.clear()\n",
    "        x.clear()\n",
    "        lis.append(count)\n",
    "        \n",
    "print(max(lis))\n",
    "print(lis.count(max(lis)))\n",
    "        \n"
   ]
  },
  {
   "cell_type": "markdown",
   "metadata": {},
   "source": [
    "### Removing Time Complexities:"
   ]
  },
  {
   "cell_type": "code",
   "execution_count": null,
   "metadata": {},
   "outputs": [],
   "source": [
    "def acmTeam(topic):\n",
    "    d = []\n",
    "    resdic = {}\n",
    "    m = 0\n",
    "    for t in topic:\n",
    "        temp = set()\n",
    "        for i in range(len(t)):\n",
    "            if t[i]=='1':\n",
    "                temp.add(i)\n",
    "        d.append(temp.copy())\n",
    "    # print(d)\n",
    "    for i in range(len(d)-1):\n",
    "        for j in range(i+1,len(d)):\n",
    "            l = len(d[i].union(d[j]))\n",
    "            m = max(m,l)\n",
    "            resdic[l]=resdic.get(l,0)+1\n",
    "    return [m,resdic[m]]\n",
    "\n",
    "\n",
    "\n",
    "\n",
    "first_multiple_input = input().rstrip().split()\n",
    "n = int(first_multiple_input[0])\n",
    "m = int(first_multiple_input[1])\n",
    "topic = []\n",
    "for _ in range(n):\n",
    "    topic_item = input()\n",
    "    topic.append(topic_item)"
   ]
  }
 ],
 "metadata": {
  "kernelspec": {
   "display_name": "Python 3",
   "language": "python",
   "name": "python3"
  },
  "language_info": {
   "codemirror_mode": {
    "name": "ipython",
    "version": 3
   },
   "file_extension": ".py",
   "mimetype": "text/x-python",
   "name": "python",
   "nbconvert_exporter": "python",
   "pygments_lexer": "ipython3",
   "version": "3.8.5"
  }
 },
 "nbformat": 4,
 "nbformat_minor": 4
}
