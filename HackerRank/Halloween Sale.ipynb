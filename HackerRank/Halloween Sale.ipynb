{
 "cells": [
  {
   "cell_type": "code",
   "execution_count": 1,
   "metadata": {},
   "outputs": [
    {
     "name": "stdout",
     "output_type": "stream",
     "text": [
      "20 3 6 85\n",
      "7\n"
     ]
    }
   ],
   "source": [
    "first_multiple_input = input().rstrip().split()\n",
    "p = int(first_multiple_input[0])\n",
    "d = int(first_multiple_input[1])\n",
    "m = int(first_multiple_input[2])\n",
    "s = int(first_multiple_input[3])\n",
    "\n",
    "count = 0\n",
    "while(s>=p):\n",
    "    count = count+1\n",
    "    s=s-p\n",
    "    p =max(p-d,m)\n",
    "    \n",
    "print(count)"
   ]
  },
  {
   "cell_type": "markdown",
   "metadata": {},
   "source": []
  }
 ],
 "metadata": {
  "kernelspec": {
   "display_name": "Python 3",
   "language": "python",
   "name": "python3"
  },
  "language_info": {
   "codemirror_mode": {
    "name": "ipython",
    "version": 3
   },
   "file_extension": ".py",
   "mimetype": "text/x-python",
   "name": "python",
   "nbconvert_exporter": "python",
   "pygments_lexer": "ipython3",
   "version": "3.8.5"
  }
 },
 "nbformat": 4,
 "nbformat_minor": 4
}
