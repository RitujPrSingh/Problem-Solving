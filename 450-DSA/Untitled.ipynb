{
 "cells": [
  {
   "cell_type": "code",
   "execution_count": 2,
   "metadata": {},
   "outputs": [
    {
     "name": "stdout",
     "output_type": "stream",
     "text": [
      "3\n"
     ]
    }
   ],
   "source": [
    "a=[1,3,4,8,9,2,6,7,6,8]\n",
    "Jumps=0\n",
    "i=0\n",
    "j=0\n",
    "def minJumps(a,n)\n",
    "    if a[0] = 0:\n",
    "        return Jumps\n",
    "    while(i==len(a)-1):\n",
    "        for j in range(i+1,i+a[i]+1):\n",
    "            if i+j == len(a)-1:\n",
    "                Jumps+=1\n",
    "                return Jumps\n",
    "            i=i+a[i]\n",
    "            Jumps+=1\n",
    "    \n",
    "            \n",
    "            \n",
    "i=i+j"
   ]
  },
  {
   "cell_type": "code",
   "execution_count": null,
   "metadata": {},
   "outputs": [],
   "source": []
  }
 ],
 "metadata": {
  "kernelspec": {
   "display_name": "Python 3",
   "language": "python",
   "name": "python3"
  },
  "language_info": {
   "codemirror_mode": {
    "name": "ipython",
    "version": 3
   },
   "file_extension": ".py",
   "mimetype": "text/x-python",
   "name": "python",
   "nbconvert_exporter": "python",
   "pygments_lexer": "ipython3",
   "version": "3.8.5"
  }
 },
 "nbformat": 4,
 "nbformat_minor": 4
}
