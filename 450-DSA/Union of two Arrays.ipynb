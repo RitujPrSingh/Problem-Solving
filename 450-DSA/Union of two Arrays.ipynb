{
 "cells": [
  {
   "cell_type": "code",
   "execution_count": 8,
   "metadata": {},
   "outputs": [
    {
     "name": "stdout",
     "output_type": "stream",
     "text": [
      "5 6\n",
      "1 2 2 3 4 \n",
      "5 6 7 8 2 2 1\n",
      "8\n"
     ]
    }
   ],
   "source": [
    "class Solution:\n",
    "    def doUnion(self,a,n,b,m):# a--> Array1, b--> Array2\n",
    "        count=0\n",
    "        res = []\n",
    "        res1=[]\n",
    "        for i in a:\n",
    "            if i not in res:\n",
    "                res.append(i)\n",
    "        for j in b:\n",
    "            if j not in res1:\n",
    "                res1.append(j)\n",
    "\n",
    "        for i in res:\n",
    "            if i in b:\n",
    "                count+=1\n",
    "            else:\n",
    "                count+=1\n",
    "        for j in res1:\n",
    "            if j not in a:\n",
    "                count+=1\n",
    "\n",
    "        return count\n",
    "    \n",
    "\n",
    "if __name__=='__main__':\n",
    "    n,m=[int(x) for x in input().strip().split()]\n",
    "    a=[int(x) for x in input().strip().split()]\n",
    "    b=[int(x) for x in input().strip().split()]\n",
    "    ob=Solution()\n",
    "    print(ob.doUnion(a,n,b,m))"
   ]
  },
  {
   "cell_type": "code",
   "execution_count": 7,
   "metadata": {},
   "outputs": [
    {
     "name": "stdout",
     "output_type": "stream",
     "text": [
      "7\n"
     ]
    }
   ],
   "source": [
    "count = 0\n",
    "a=[1,1,2,2,3,3]\n",
    "b=[5,6,7,8]\n",
    "res = []\n",
    "res1=[]\n",
    "for i in a:\n",
    "    if i not in res:\n",
    "        res.append(i)\n",
    "for j in b:\n",
    "    if j not in res1:\n",
    "        res1.append(j)\n",
    "\n",
    "for i in res:\n",
    "    if i in b:\n",
    "        count+=1\n",
    "    else:\n",
    "        count+=1\n",
    "for j in res1:\n",
    "    if j not in a:\n",
    "        count+=1\n",
    "        \n",
    "print(count)\n",
    "        \n",
    "        "
   ]
  },
  {
   "cell_type": "code",
   "execution_count": null,
   "metadata": {},
   "outputs": [],
   "source": []
  }
 ],
 "metadata": {
  "kernelspec": {
   "display_name": "Python 3",
   "language": "python",
   "name": "python3"
  },
  "language_info": {
   "codemirror_mode": {
    "name": "ipython",
    "version": 3
   },
   "file_extension": ".py",
   "mimetype": "text/x-python",
   "name": "python",
   "nbconvert_exporter": "python",
   "pygments_lexer": "ipython3",
   "version": "3.8.5"
  }
 },
 "nbformat": 4,
 "nbformat_minor": 4
}
