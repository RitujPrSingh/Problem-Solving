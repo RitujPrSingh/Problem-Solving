{
 "cells": [
  {
   "cell_type": "code",
   "execution_count": 4,
   "metadata": {},
   "outputs": [
    {
     "name": "stdout",
     "output_type": "stream",
     "text": [
      "1\n",
      "3\n"
     ]
    }
   ],
   "source": [
    "N=6\n",
    "arr = [7,10,4,3,20,15]\n",
    "k = int(input())\n",
    "l=0\n",
    "r=len(arr)-1\n",
    "def kthSmallest(self,arr, l, r, k):\n",
    "    while(l<r)\n",
    "    "
   ]
  },
  {
   "cell_type": "code",
   "execution_count": 10,
   "metadata": {},
   "outputs": [
    {
     "name": "stdout",
     "output_type": "stream",
     "text": [
      "1 \n",
      "4\n",
      "12 3 4 5\n",
      "2\n",
      "4\n"
     ]
    }
   ],
   "source": [
    "\n",
    "def kthSmallest(arr, l, r, k):\n",
    "    min=99999\n",
    "    c=0\n",
    "    while c<k:\n",
    "        for i in arr:\n",
    "            if min < i:\n",
    "                pass\n",
    "            else:\n",
    "                min = i\n",
    "        c=c+1\n",
    "        arr.remove(min)\n",
    "        if c==k:\n",
    "            return min\n",
    "        else:\n",
    "            pass\n",
    "        min=999\n",
    "if __name__ == '__main__': \n",
    "    import random \n",
    "    t=int(input())\n",
    "    for tcs in range(t):\n",
    "        n=int(input())\n",
    "        arr=list(map(int,input().strip().split()))\n",
    "        k=int(input())\n",
    "        print(kthSmallest(arr, 0, n-1, k))"
   ]
  },
  {
   "cell_type": "code",
   "execution_count": null,
   "metadata": {},
   "outputs": [],
   "source": []
  }
 ],
 "metadata": {
  "kernelspec": {
   "display_name": "Python 3",
   "language": "python",
   "name": "python3"
  },
  "language_info": {
   "codemirror_mode": {
    "name": "ipython",
    "version": 3
   },
   "file_extension": ".py",
   "mimetype": "text/x-python",
   "name": "python",
   "nbconvert_exporter": "python",
   "pygments_lexer": "ipython3",
   "version": "3.8.5"
  }
 },
 "nbformat": 4,
 "nbformat_minor": 4
}
