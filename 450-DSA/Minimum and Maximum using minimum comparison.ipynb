{
 "cells": [
  {
   "cell_type": "code",
   "execution_count": 13,
   "metadata": {},
   "outputs": [
    {
     "name": "stdout",
     "output_type": "stream",
     "text": [
      "(10, 4)\n"
     ]
    }
   ],
   "source": [
    "def MaxMin(A):\n",
    "    if A[0]>A[1]:\n",
    "        max = A[0]\n",
    "        min = A[1]  \n",
    "    else:\n",
    "        max = A[1]\n",
    "        min=A[0]\n",
    "    i=0\n",
    "    while(i!=len(A)-1):\n",
    "        if A[i]>max:\n",
    "            max = A[i]\n",
    "        elif A[i]<min:\n",
    "            min = A[i]\n",
    "        i = i+1\n",
    "            \n",
    "    return max,min\n",
    "            \n",
    "            \n",
    "            \n",
    "\n",
    "## Driver Code\n",
    "\n",
    "A=[10,4,5,6,7,8]\n",
    "print(MaxMin(A))\n"
   ]
  },
  {
   "cell_type": "markdown",
   "metadata": {},
   "source": [
    "### Using Linear Search\n",
    "\n"
   ]
  },
  {
   "cell_type": "code",
   "execution_count": 14,
   "metadata": {},
   "outputs": [
    {
     "name": "stdout",
     "output_type": "stream",
     "text": [
      "Minimum element is 1\n",
      "Maximum element is 3000\n"
     ]
    }
   ],
   "source": [
    "class pair:\n",
    "    def __init__(self):\n",
    "        self.min = 0\n",
    "        self.max = 0\n",
    "\n",
    "def getMinMax(arr: list, n: int) -> pair:\n",
    "    minmax = pair()\n",
    " \n",
    "    # If there is only one element then return it as min and max both\n",
    "    if n == 1:\n",
    "        minmax.max = arr[0]\n",
    "        minmax.min = arr[0]\n",
    "        return minmax\n",
    " \n",
    "    # If there are more than one elements, then initialize min\n",
    "    # and max\n",
    "    if arr[0] > arr[1]:\n",
    "        minmax.max = arr[0]\n",
    "        minmax.min = arr[1]\n",
    "    else:\n",
    "        minmax.max = arr[1]\n",
    "        minmax.min = arr[0]\n",
    " \n",
    "    for i in range(2, n):\n",
    "        if arr[i] > minmax.max:\n",
    "            minmax.max = arr[i]\n",
    "        elif arr[i] < minmax.min:\n",
    "            minmax.min = arr[i]\n",
    " \n",
    "    return minmax\n",
    " \n",
    "# Driver Code\n",
    "if __name__ == \"__main__\":\n",
    "    arr = [1000, 11, 445, 1, 330, 3000]\n",
    "    arr_size = 6\n",
    "    minmax = getMinMax(arr, arr_size)\n",
    "    print(\"Minimum element is\", minmax.min)\n",
    "    print(\"Maximum element is\", minmax.max)"
   ]
  },
  {
   "cell_type": "markdown",
   "metadata": {},
   "source": [
    "### Tournament Method\n",
    "\n",
    "Divide the array into two parts and compare the maximums and minimums of the two parts to get the maximum and the minimum of the whole array."
   ]
  },
  {
   "cell_type": "code",
   "execution_count": 16,
   "metadata": {},
   "outputs": [
    {
     "name": "stdout",
     "output_type": "stream",
     "text": [
      "Minimum element is  1\n",
      "Maximum element is  3000\n"
     ]
    }
   ],
   "source": [
    "def getMinMax(low, high, arr):\n",
    "    arr_max = arr[low]\n",
    "    arr_min = arr[low]\n",
    "     \n",
    "    # If there is only one element\n",
    "    if low == high:\n",
    "        arr_max = arr[low]\n",
    "        arr_min = arr[low]\n",
    "        return (arr_max, arr_min)\n",
    "         \n",
    "    # If there is only two element\n",
    "    elif high == low + 1:\n",
    "        if arr[low] > arr[high]:\n",
    "            arr_max = arr[low]\n",
    "            arr_min = arr[high]\n",
    "        else:\n",
    "            arr_max = arr[high]\n",
    "            arr_min = arr[low]\n",
    "        return (arr_max, arr_min)\n",
    "    else:\n",
    "         \n",
    "        # If there are more than 2 elements\n",
    "        mid = int((low + high) / 2)\n",
    "        arr_max1, arr_min1 = getMinMax(low, mid, arr)\n",
    "        arr_max2, arr_min2 = getMinMax(mid + 1, high, arr)\n",
    " \n",
    "    return (max(arr_max1, arr_max2), min(arr_min1, arr_min2))\n",
    " \n",
    "# Driver code\n",
    "arr = [1000, 11, 445, 1, 330, 3000]\n",
    "high = len(arr) - 1\n",
    "low = 0\n",
    "arr_max, arr_min = getMinMax(low, high, arr)\n",
    "print('Minimum element is ', arr_min)\n",
    "print('Maximum element is ', arr_max)"
   ]
  },
  {
   "cell_type": "code",
   "execution_count": null,
   "metadata": {},
   "outputs": [],
   "source": []
  }
 ],
 "metadata": {
  "kernelspec": {
   "display_name": "Python 3",
   "language": "python",
   "name": "python3"
  },
  "language_info": {
   "codemirror_mode": {
    "name": "ipython",
    "version": 3
   },
   "file_extension": ".py",
   "mimetype": "text/x-python",
   "name": "python",
   "nbconvert_exporter": "python",
   "pygments_lexer": "ipython3",
   "version": "3.8.5"
  }
 },
 "nbformat": 4,
 "nbformat_minor": 4
}
