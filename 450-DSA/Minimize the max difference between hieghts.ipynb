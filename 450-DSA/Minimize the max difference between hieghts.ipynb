{
 "cells": [
  {
   "cell_type": "code",
   "execution_count": 25,
   "metadata": {},
   "outputs": [
    {
     "name": "stdout",
     "output_type": "stream",
     "text": [
      "8 1 5 4 7 5 7 9 4 6\n",
      "8\n"
     ]
    }
   ],
   "source": [
    "def getMinDiff(arr, n, k):\n",
    "    arr.sort() \n",
    "    ans=arr[n-1]-arr[0]\n",
    "    small,big=0,0\n",
    "         \n",
    "    for i in range(1,n):\n",
    "        if arr[i]>=k:\n",
    "            small=min(arr[0]+k,arr[i]-k) \n",
    "            big=max(arr[i-1]+k,arr[-1]-k) \n",
    "            ans=min(ans,big-small)\n",
    "       \n",
    "    return ans\n",
    "arr=list(map(int,input().split()))\n",
    "k=5\n",
    "print(getMinDiff(arr,len(arr),k))"
   ]
  },
  {
   "cell_type": "code",
   "execution_count": null,
   "metadata": {},
   "outputs": [],
   "source": []
  }
 ],
 "metadata": {
  "kernelspec": {
   "display_name": "Python 3",
   "language": "python",
   "name": "python3"
  },
  "language_info": {
   "codemirror_mode": {
    "name": "ipython",
    "version": 3
   },
   "file_extension": ".py",
   "mimetype": "text/x-python",
   "name": "python",
   "nbconvert_exporter": "python",
   "pygments_lexer": "ipython3",
   "version": "3.8.5"
  }
 },
 "nbformat": 4,
 "nbformat_minor": 4
}
